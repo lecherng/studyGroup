{
 "cells": [
  {
   "cell_type": "markdown",
   "metadata": {},
   "source": [
    "## Smart Pointer"
   ]
  },
  {
   "cell_type": "markdown",
   "metadata": {},
   "source": [
    "Smart Pointer consists of:-\n",
    "- unique pointer `unique_ptr`\n",
    "- shared pointer `shared_ptr`\n",
    "- weak pointer `weak_ptr`"
   ]
  },
  {
   "cell_type": "markdown",
   "metadata": {},
   "source": [
    "## Shared Pointer\n",
    "\n",
    "From cppreference.com:-\n",
    "\n",
    "`std::shared_ptr` is a smart pointer that retains shared ownership of an object through a pointer. Several `shared_ptr` objects may own the same object. The object is destroyed and its memory deallocated when either of the following happens:\n",
    "- the last remaining `shared_ptr` owning the object is destroyed;\n",
    "- the last remaining `shared_ptr` owning the object is assigned another pointer via `operator=` or `reset()`.\n",
    "\n"
   ]
  },
  {
   "cell_type": "markdown",
   "metadata": {},
   "source": [
    "All the includes will be inserted here"
   ]
  },
  {
   "cell_type": "code",
   "execution_count": 1,
   "metadata": {},
   "outputs": [],
   "source": [
    "#include <memory>\n",
    "#include <iostream>"
   ]
  },
  {
   "cell_type": "markdown",
   "metadata": {},
   "source": [
    "The code begin here"
   ]
  },
  {
   "cell_type": "code",
   "execution_count": 2,
   "metadata": {},
   "outputs": [],
   "source": [
    "class JustAClass\n",
    "{\n",
    "    public:\n",
    "    JustAClass() = default;\n",
    "    ~JustAClass() = default;\n",
    "};"
   ]
  },
  {
   "cell_type": "markdown",
   "metadata": {},
   "source": [
    "we instantiates above JustAClass and save it as a shared pointer\n",
    "Now we have a m_pJustAClass which is a pointer pointed to the JustAClass object class"
   ]
  },
  {
   "cell_type": "markdown",
   "metadata": {},
   "source": [
    "Create a function which received the shared_ptr, the function will implicitly create a new reference to the shared_ptr, hence same address but increase in the use_count. But once the function is out of scope, the use_count will reduce."
   ]
  },
  {
   "cell_type": "code",
   "execution_count": 3,
   "metadata": {},
   "outputs": [],
   "source": [
    "std::shared_ptr<JustAClass> m_pJustAClass;"
   ]
  },
  {
   "cell_type": "code",
   "execution_count": 4,
   "metadata": {},
   "outputs": [],
   "source": [
    "void AnotherFunction(std::shared_ptr<JustAClass> pJustAClass)\n",
    "{\n",
    "    std::cout<<\"AnotherFunction:\"<<std::endl;\n",
    "    std::cout<<\"Pointer address: \"<<m_pJustAClass<<\". Use_count (\"<<m_pJustAClass.use_count()<<\")\"<<std::endl;\n",
    "};"
   ]
  },
  {
   "cell_type": "code",
   "execution_count": 5,
   "metadata": {},
   "outputs": [],
   "source": [
    "void MainFunction()\n",
    "{\n",
    "    m_pJustAClass = std::make_shared<JustAClass>();\n",
    "    \n",
    "    std::cout<<\"main:\"<<std::endl;\n",
    "    std::cout<<\"Pointer address: \"<<m_pJustAClass<<\". Use_count (\"<<m_pJustAClass.use_count()<<\")\"<<std::endl;\n",
    "    \n",
    "    AnotherFunction(m_pJustAClass);\n",
    "};"
   ]
  },
  {
   "cell_type": "code",
   "execution_count": 6,
   "metadata": {},
   "outputs": [
    {
     "name": "stdout",
     "output_type": "stream",
     "text": [
      "main:\n",
      "Pointer address: 0x55f88aa9e0e0. Use_count (1)\n",
      "AnotherFunction:\n",
      "Pointer address: 0x55f88aa9e0e0. Use_count (2)\n",
      "main out of scope\n",
      "Pointer address: 0x55f88aa9e0e0. Use_count (1)\n"
     ]
    }
   ],
   "source": [
    "MainFunction();\n",
    "std::cout<<\"main out of scope\"<<std::endl;\n",
    "std::cout<<\"Pointer address: \"<<m_pJustAClass<<\". Use_count (\"<<m_pJustAClass.use_count()<<\")\"<<std::endl;"
   ]
  },
  {
   "cell_type": "markdown",
   "metadata": {},
   "source": [
    "shared_ptr will automatically go out of scope if the use_count has reached 0 \n",
    "OR\n",
    "`reset()` is called."
   ]
  },
  {
   "cell_type": "code",
   "execution_count": null,
   "metadata": {},
   "outputs": [],
   "source": [
    "m_pJustAClass.reset();\n"
   ]
  },
  {
   "cell_type": "markdown",
   "metadata": {},
   "source": [
    "## Unique Pointer"
   ]
  },
  {
   "cell_type": "code",
   "execution_count": null,
   "metadata": {},
   "outputs": [],
   "source": []
  }
 ],
 "metadata": {
  "kernelspec": {
   "display_name": "C++17",
   "language": "C++17",
   "name": "xcpp17"
  },
  "language_info": {
   "codemirror_mode": "text/x-c++src",
   "file_extension": ".cpp",
   "mimetype": "text/x-c++src",
   "name": "c++",
   "version": "-std=c++17"
  }
 },
 "nbformat": 4,
 "nbformat_minor": 2
}
